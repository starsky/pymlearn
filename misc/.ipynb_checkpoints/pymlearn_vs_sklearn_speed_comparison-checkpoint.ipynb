{
 "cells": [
  {
   "cell_type": "code",
   "execution_count": 1,
   "metadata": {
    "collapsed": true
   },
   "outputs": [],
   "source": [
    "import sys\n",
    "sys.path.append('../')"
   ]
  },
  {
   "cell_type": "code",
   "execution_count": 2,
   "metadata": {
    "collapsed": false
   },
   "outputs": [
    {
     "name": "stdout",
     "output_type": "stream",
     "text": [
      "[Warning] The derivatives are not implemented in fully vectorized way.\n"
     ]
    },
    {
     "name": "stderr",
     "output_type": "stream",
     "text": [
      "/home/mkopersk/anaconda2/lib/python2.7/site-packages/theano/tensor/signal/downsample.py:6: UserWarning: downsample module has been moved to the theano.tensor.signal.pool module.\n",
      "  \"downsample module has been moved to the theano.tensor.signal.pool module.\")\n"
     ]
    }
   ],
   "source": [
    "from sklearn import datasets\n",
    "from sklearn.metrics import accuracy_score\n",
    "import pymlearn.linear\n",
    "import numpy as np\n",
    "from sklearn.linear_model import SGDClassifier\n",
    "import pymlearn.core"
   ]
  },
  {
   "cell_type": "code",
   "execution_count": 3,
   "metadata": {
    "collapsed": true
   },
   "outputs": [],
   "source": [
    "data_set = datasets.load_digits(10)\n",
    "test_set_size = data_set['target'].shape[0] / 3\n",
    "Ytr = data_set['target'][test_set_size:]\n",
    "Xtr = data_set['data'][test_set_size:]\n",
    "validation_set_size = Xtr.shape[0] / 3\n",
    "Yts = data_set['target'][:test_set_size]\n",
    "Xts = data_set['data'][:test_set_size]"
   ]
  },
  {
   "cell_type": "code",
   "execution_count": 4,
   "metadata": {
    "collapsed": true
   },
   "outputs": [],
   "source": [
    "pymlearn.core.set_solver_backend('python')\n",
    "p_lambda = 1\n",
    "clf_pym = pymlearn.linear.LinearClassifer(reg=p_lambda, loss='softmax', penalty='L2', verbose=True, solver='GD')\n",
    "%time clf_pym.fit(Xtr, Ytr)\n",
    "\n",
    "print 'Accuracy on train: %0.2f%%' % (accuracy_score(Ytr, clf_pym.predict(Xtr)) * 100)\n",
    "print 'Accuracy on test: %0.2f%%' % (accuracy_score(Yts, clf_pym.predict(Xts)) * 100)"
   ]
  },
  {
   "cell_type": "code",
   "execution_count": 7,
   "metadata": {
    "collapsed": true
   },
   "outputs": [],
   "source": [
    "pymlearn.core.set_solver_backend('theano')\n",
    "p_lambda = 1\n",
    "clf_pym = pymlearn.linear.LinearClassifer(reg=p_lambda, loss='softmax', penalty='L2', verbose=True, solver='GD')\n",
    "%time clf_pym.fit(Xtr, Ytr)\n",
    "\n",
    "print 'Accuracy on train: %0.2f%%' % (accuracy_score(Ytr, clf_pym.predict(Xtr)) * 100)\n",
    "print 'Accuracy on test: %0.2f%%' % (accuracy_score(Yts, clf_pym.predict(Xts)) * 100)"
   ]
  },
  {
   "cell_type": "code",
   "execution_count": 7,
   "metadata": {
    "collapsed": false
   },
   "outputs": [],
   "source": [
    "clf_sk = SGDClassifier(loss='log', penalty='l2', alpha=p_lambda, verbose=False, n_iter=5000, learning_rate='constant',\n",
    "                      eta0=1e-3)\n",
    "%time clf_sk.fit(Xtr, Ytr)\n",
    "\n",
    "print 'Accuracy on train: %0.2f%%' % (accuracy_score(Ytr, clf_sk.predict(Xtr)) * 100)\n",
    "print 'Accuracy on test: %0.2f%%' % (accuracy_score(Yts, clf_sk.predict(Xts)) * 100)"
   ]
  }
 ],
 "metadata": {
  "kernelspec": {
   "display_name": "Python [default]",
   "language": "python",
   "name": "python2"
  },
  "language_info": {
   "codemirror_mode": {
    "name": "ipython",
    "version": 2
   },
   "file_extension": ".py",
   "mimetype": "text/x-python",
   "name": "python",
   "nbconvert_exporter": "python",
   "pygments_lexer": "ipython2",
   "version": "2.7.13"
  }
 },
 "nbformat": 4,
 "nbformat_minor": 2
}
