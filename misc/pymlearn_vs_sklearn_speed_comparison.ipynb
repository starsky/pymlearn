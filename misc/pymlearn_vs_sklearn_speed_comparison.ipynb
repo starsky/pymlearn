{
 "cells": [
  {
   "cell_type": "code",
   "execution_count": 1,
   "metadata": {
    "collapsed": true
   },
   "outputs": [],
   "source": [
    "import sys\n",
    "sys.path.append('../')"
   ]
  },
  {
   "cell_type": "code",
   "execution_count": 2,
   "metadata": {
    "collapsed": false
   },
   "outputs": [
    {
     "name": "stdout",
     "output_type": "stream",
     "text": [
      "[Warning] The derivatives are not implemented in fully vectorized way.\n"
     ]
    },
    {
     "name": "stderr",
     "output_type": "stream",
     "text": [
      "/home/mkopersk/anaconda2/lib/python2.7/site-packages/theano/tensor/signal/downsample.py:6: UserWarning: downsample module has been moved to the theano.tensor.signal.pool module.\n",
      "  \"downsample module has been moved to the theano.tensor.signal.pool module.\")\n"
     ]
    }
   ],
   "source": [
    "from sklearn import datasets\n",
    "from sklearn.metrics import accuracy_score\n",
    "import pymlearn.linear\n",
    "import numpy as np\n",
    "from sklearn.linear_model import SGDClassifier\n",
    "import pymlearn.core"
   ]
  },
  {
   "cell_type": "code",
   "execution_count": 3,
   "metadata": {
    "collapsed": true
   },
   "outputs": [],
   "source": [
    "data_set = datasets.load_digits(10)\n",
    "test_set_size = data_set['target'].shape[0] / 3\n",
    "Ytr = data_set['target'][test_set_size:]\n",
    "Xtr = data_set['data'][test_set_size:]\n",
    "validation_set_size = Xtr.shape[0] / 3\n",
    "Yts = data_set['target'][:test_set_size]\n",
    "Xts = data_set['data'][:test_set_size]"
   ]
  },
  {
   "cell_type": "code",
   "execution_count": 4,
   "metadata": {
    "collapsed": false
   },
   "outputs": [
    {
     "name": "stdout",
     "output_type": "stream",
     "text": [
      "Iteration 000:\tloss value: 252.487800\n",
      "Iteration 100:\tloss value: 159.559351\n",
      "Iteration 200:\tloss value: 103.293952\n",
      "Iteration 300:\tloss value: 67.976313\n",
      "Iteration 400:\tloss value: 45.303548\n",
      "Iteration 500:\tloss value: 30.359646\n",
      "Iteration 600:\tloss value: 20.429919\n",
      "Iteration 700:\tloss value: 13.819377\n",
      "Iteration 800:\tloss value: 9.418038\n",
      "Iteration 900:\tloss value: 6.488673\n",
      "Iteration 1000:\tloss value: 4.539558\n",
      "Iteration 1100:\tloss value: 3.242647\n",
      "Iteration 1200:\tloss value: 2.379424\n",
      "Iteration 1300:\tloss value: 1.804576\n",
      "Iteration 1400:\tloss value: 1.421554\n",
      "Iteration 1500:\tloss value: 1.166212\n",
      "Iteration 1600:\tloss value: 0.995906\n",
      "Iteration 1700:\tloss value: 0.882270\n",
      "Iteration 1800:\tloss value: 0.806420\n",
      "Iteration 1900:\tloss value: 0.755775\n",
      "Optimizer Python Gradient Descend, converged\n",
      "Iterations count: 1999\n",
      "Loss value: 0.722226\n",
      "CPU times: user 36.9 s, sys: 924 ms, total: 37.8 s\n",
      "Wall time: 4.65 s\n",
      "Accuracy on train: 96.08%\n",
      "Accuracy on test: 91.65%\n"
     ]
    }
   ],
   "source": [
    "pymlearn.core.set_solver_backend('python')\n",
    "p_lambda = 1\n",
    "clf_pym = pymlearn.linear.LinearClassifer(reg=p_lambda, loss='softmax', penalty='L2', verbose=True, solver='GD')\n",
    "%time clf_pym.fit(Xtr, Ytr)\n",
    "\n",
    "print 'Accuracy on train: %0.2f%%' % (accuracy_score(Ytr, clf_pym.predict(Xtr)) * 100)\n",
    "print 'Accuracy on test: %0.2f%%' % (accuracy_score(Yts, clf_pym.predict(Xts)) * 100)"
   ]
  },
  {
   "cell_type": "code",
   "execution_count": 5,
   "metadata": {
    "collapsed": false
   },
   "outputs": [
    {
     "name": "stdout",
     "output_type": "stream",
     "text": [
      "Iteration 000:\tloss value: 247.936974\n",
      "Iteration 100:\tloss value: 155.590055\n",
      "Iteration 200:\tloss value: 101.914044\n",
      "Iteration 300:\tloss value: 67.602519\n",
      "Iteration 400:\tloss value: 45.119014\n",
      "Iteration 500:\tloss value: 30.236354\n",
      "Iteration 600:\tloss value: 20.346274\n",
      "Iteration 700:\tloss value: 13.763438\n",
      "Iteration 800:\tloss value: 9.380823\n",
      "Iteration 900:\tloss value: 6.463759\n",
      "Iteration 1000:\tloss value: 4.522679\n",
      "Iteration 1100:\tloss value: 3.231102\n",
      "Iteration 1200:\tloss value: 2.371504\n",
      "Iteration 1300:\tloss value: 1.799154\n",
      "Iteration 1400:\tloss value: 1.417860\n",
      "Iteration 1500:\tloss value: 1.163707\n",
      "Iteration 1600:\tloss value: 0.994213\n",
      "Iteration 1700:\tloss value: 0.881128\n",
      "Iteration 1800:\tloss value: 0.805649\n",
      "Iteration 1900:\tloss value: 0.755253\n",
      "Optimizer Lasagne Gradient Descend, converged\n",
      "Iterations count: 1999\n",
      "Loss value: 0.721869\n",
      "CPU times: user 40.5 s, sys: 978 ms, total: 41.4 s\n",
      "Wall time: 3.93 s\n",
      "Accuracy on train: 96.08%\n",
      "Accuracy on test: 91.82%\n"
     ]
    }
   ],
   "source": [
    "pymlearn.core.set_solver_backend('theano')\n",
    "p_lambda = 1\n",
    "clf_pym = pymlearn.linear.LinearClassifer(reg=p_lambda, loss='softmax', penalty='L2', verbose=True, solver='GD')\n",
    "%time clf_pym.fit(Xtr, Ytr)\n",
    "\n",
    "print 'Accuracy on train: %0.2f%%' % (accuracy_score(Ytr, clf_pym.predict(Xtr)) * 100)\n",
    "print 'Accuracy on test: %0.2f%%' % (accuracy_score(Yts, clf_pym.predict(Xts)) * 100)"
   ]
  },
  {
   "cell_type": "code",
   "execution_count": 7,
   "metadata": {
    "collapsed": false
   },
   "outputs": [],
   "source": [
    "clf_sk = SGDClassifier(loss='log', penalty='l2', alpha=p_lambda, verbose=False, n_iter=5000, learning_rate='constant',\n",
    "                      eta0=1e-3)\n",
    "%time clf_sk.fit(Xtr, Ytr)\n",
    "\n",
    "print 'Accuracy on train: %0.2f%%' % (accuracy_score(Ytr, clf_sk.predict(Xtr)) * 100)\n",
    "print 'Accuracy on test: %0.2f%%' % (accuracy_score(Yts, clf_sk.predict(Xts)) * 100)"
   ]
  }
 ],
 "metadata": {
  "kernelspec": {
   "display_name": "Python [default]",
   "language": "python",
   "name": "python2"
  },
  "language_info": {
   "codemirror_mode": {
    "name": "ipython",
    "version": 2
   },
   "file_extension": ".py",
   "mimetype": "text/x-python",
   "name": "python",
   "nbconvert_exporter": "python",
   "pygments_lexer": "ipython2",
   "version": "2.7.13"
  }
 },
 "nbformat": 4,
 "nbformat_minor": 2
}
