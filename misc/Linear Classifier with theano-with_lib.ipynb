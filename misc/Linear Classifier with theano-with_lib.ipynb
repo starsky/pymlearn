{
 "cells": [
  {
   "cell_type": "code",
   "execution_count": 1,
   "metadata": {
    "collapsed": true
   },
   "outputs": [],
   "source": [
    "import sys\n",
    "sys.path.append('./pymlearn/')"
   ]
  },
  {
   "cell_type": "code",
   "execution_count": 2,
   "metadata": {
    "collapsed": false
   },
   "outputs": [],
   "source": [
    "from sklearn import datasets\n",
    "from sklearn.metrics import accuracy_score\n",
    "import pymlearn.linear\n",
    "import numpy as np"
   ]
  },
  {
   "cell_type": "code",
   "execution_count": 3,
   "metadata": {
    "collapsed": false
   },
   "outputs": [],
   "source": [
    "data_set = datasets.load_digits(10)\n",
    "test_set_size = data_set['target'].shape[0] / 3\n",
    "Ytr = data_set['target'][test_set_size:]\n",
    "Xtr = data_set['data'][test_set_size:]\n",
    "validation_set_size = Xtr.shape[0] / 3\n",
    "# Xvd = Xtr[:validation_set_size]\n",
    "# Yvd = Ytr[:validation_set_size]\n",
    "# Xtr = Xtr[validation_set_size:]\n",
    "# Ytr = Ytr[validation_set_size:]\n",
    "Yts = data_set['target'][:test_set_size]\n",
    "Xts = data_set['data'][:test_set_size]"
   ]
  },
  {
   "cell_type": "code",
   "execution_count": 4,
   "metadata": {
    "collapsed": false
   },
   "outputs": [
    {
     "name": "stdout",
     "output_type": "stream",
     "text": [
      "Accuracy on train: 95.99%\n",
      "Accuracy on test: 91.65%\n"
     ]
    }
   ],
   "source": [
    "p_lambda = 1\n",
    "W = pymlearn.linear.train_classifer(Xtr, Ytr, loss='softmax', reg=p_lambda)\n",
    "print 'Accuracy on train: %0.2f%%' % (accuracy_score(Ytr, pymlearn.linear.classify(W, Xtr)) * 100)\n",
    "print 'Accuracy on test: %0.2f%%' % (accuracy_score(Yts, pymlearn.linear.classify(W, Xts)) * 100)"
   ]
  },
  {
   "cell_type": "code",
   "execution_count": 5,
   "metadata": {
    "collapsed": false
   },
   "outputs": [
    {
     "name": "stdout",
     "output_type": "stream",
     "text": [
      "Accuracy on train: 98.91%\n",
      "Accuracy on test: 92.82%\n"
     ]
    }
   ],
   "source": [
    "p_lambda = 0.1\n",
    "clf = pymlearn.linear.LinearClassifer(reg=p_lambda, loss='softmax')\n",
    "clf.fit(Xtr, Ytr)\n",
    "print 'Accuracy on train: %0.2f%%' % (accuracy_score(Ytr, clf.predict(Xtr)) * 100)\n",
    "print 'Accuracy on test: %0.2f%%' % (accuracy_score(Yts, clf.predict(Xts)) * 100)"
   ]
  },
  {
   "cell_type": "code",
   "execution_count": 6,
   "metadata": {
    "collapsed": false
   },
   "outputs": [
    {
     "name": "stdout",
     "output_type": "stream",
     "text": [
      "Accuracy on train: 98.00%\n",
      "Accuracy on test: 93.49%\n"
     ]
    }
   ],
   "source": [
    "import sklearn.grid_search\n",
    "\n",
    "params_grid = {'loss': ['hinge', 'softmax'], 'penalty': ['L1', 'L2'], \n",
    "                                                 'reg': np.logspace(-2,2,10)}\n",
    "estimator = pymlearn.linear.LinearClassifer()\n",
    "clf = sklearn.grid_search.GridSearchCV(estimator, params_grid, cv=[(np.arange(validation_set_size, Xtr.shape[0]), \n",
    "                                                                    np.arange(validation_set_size))], n_jobs=4)\n",
    "clf.fit(Xtr, Ytr)\n",
    "\n",
    "print 'Accuracy on train: %0.2f%%' % (accuracy_score(Ytr, clf.predict(Xtr)) * 100)\n",
    "print 'Accuracy on test: %0.2f%%' % (accuracy_score(Yts, clf.predict(Xts)) * 100)"
   ]
  },
  {
   "cell_type": "code",
   "execution_count": 7,
   "metadata": {
    "collapsed": false
   },
   "outputs": [
    {
     "data": {
      "text/plain": [
       "0.91729323308270672"
      ]
     },
     "execution_count": 7,
     "metadata": {},
     "output_type": "execute_result"
    }
   ],
   "source": [
    "clf.best_score_"
   ]
  },
  {
   "cell_type": "code",
   "execution_count": 8,
   "metadata": {
    "collapsed": false
   },
   "outputs": [
    {
     "data": {
      "text/plain": [
       "{'loss': 'hinge', 'penalty': 'L2', 'reg': 0.21544346900318834}"
      ]
     },
     "execution_count": 8,
     "metadata": {},
     "output_type": "execute_result"
    }
   ],
   "source": [
    "clf.best_params_"
   ]
  },
  {
   "cell_type": "code",
   "execution_count": 9,
   "metadata": {
    "collapsed": false
   },
   "outputs": [
    {
     "name": "stdout",
     "output_type": "stream",
     "text": [
      "Using matplotlib backend: Qt4Agg\n",
      "Populating the interactive namespace from numpy and matplotlib\n"
     ]
    },
    {
     "name": "stderr",
     "output_type": "stream",
     "text": [
      "WARNING: pylab import has clobbered these variables: ['clf']\n",
      "`%matplotlib` prevents importing * from pylab and numpy\n"
     ]
    }
   ],
   "source": [
    "%pylab\n",
    "from scipy.interpolate import interp1d"
   ]
  },
  {
   "cell_type": "code",
   "execution_count": 10,
   "metadata": {
    "collapsed": false
   },
   "outputs": [],
   "source": [
    "for i in range(W.shape[0]):\n",
    "    ax = plt.subplot(2, 5, i+1)\n",
    "    v = W[i,:-1].reshape((8,8))\n",
    "    ax.matshow(v)"
   ]
  },
  {
   "cell_type": "code",
   "execution_count": 483,
   "metadata": {
    "collapsed": false
   },
   "outputs": [],
   "source": [
    "W_s = W.copy()\n",
    "W_s[W_s < 1e-2] = 0\n",
    "W_orig = W.copy()\n",
    "W = W_s"
   ]
  }
 ],
 "metadata": {
  "kernelspec": {
   "display_name": "Python 2",
   "language": "python",
   "name": "python2"
  },
  "language_info": {
   "codemirror_mode": {
    "name": "ipython",
    "version": 2
   },
   "file_extension": ".py",
   "mimetype": "text/x-python",
   "name": "python",
   "nbconvert_exporter": "python",
   "pygments_lexer": "ipython2",
   "version": "2.7.11"
  }
 },
 "nbformat": 4,
 "nbformat_minor": 0
}
